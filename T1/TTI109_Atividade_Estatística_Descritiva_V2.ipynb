{
  "cells": [
    {
      "cell_type": "markdown",
      "metadata": {
        "id": "QEH_7FvGl7wm"
      },
      "source": [
        "# TTI109 - Atividade: Estatística Descritiva\n",
        "## Onde é mais caro viver? Gotham City ou Metrópolis?\n",
        "Sua equipe deve responder a essa pergunta com base em dados acerca de aluguéis praticados em diversos pontos das duas cidades, em vários tipos de residências. As informações reúnem a área dos imóveis, os impostos, seguros e aluguéis mensais.\n",
        "\n",
        "Faça o upload do arquivo `alugueis.csv`, execute o código abaixo e verifique o formato do conjunto de dados."
      ]
    },
    {
      "cell_type": "code",
      "execution_count": 6,
      "metadata": {
        "id": "zkRcdkkULvOz"
      },
      "outputs": [
        {
          "ename": "ModuleNotFoundError",
          "evalue": "No module named 'pandas'",
          "output_type": "error",
          "traceback": [
            "\u001b[1;31m---------------------------------------------------------------------------\u001b[0m",
            "\u001b[1;31mModuleNotFoundError\u001b[0m                       Traceback (most recent call last)",
            "\u001b[1;32mc:\\Users\\wagne\\Documents\\OneDrive - Instituto Maua de Tecnologia\\Documentos\\Estatistica\\T1\\TTI109_Atividade_Estatística_Descritiva_V2.ipynb Célula 2\u001b[0m line \u001b[0;36m1\n\u001b[1;32m----> <a href='vscode-notebook-cell:/c%3A/Users/wagne/Documents/OneDrive%20-%20Instituto%20Maua%20de%20Tecnologia/Documentos/Estatistica/T1/TTI109_Atividade_Estat%C3%ADstica_Descritiva_V2.ipynb#W1sZmlsZQ%3D%3D?line=0'>1</a>\u001b[0m \u001b[39mimport\u001b[39;00m \u001b[39mpandas\u001b[39;00m \u001b[39mas\u001b[39;00m \u001b[39mpd\u001b[39;00m\n\u001b[0;32m      <a href='vscode-notebook-cell:/c%3A/Users/wagne/Documents/OneDrive%20-%20Instituto%20Maua%20de%20Tecnologia/Documentos/Estatistica/T1/TTI109_Atividade_Estat%C3%ADstica_Descritiva_V2.ipynb#W1sZmlsZQ%3D%3D?line=1'>2</a>\u001b[0m \u001b[39mimport\u001b[39;00m \u001b[39mmatplotlib\u001b[39;00m\u001b[39m.\u001b[39;00m\u001b[39mpyplot\u001b[39;00m \u001b[39mas\u001b[39;00m \u001b[39mplt\u001b[39;00m\n\u001b[0;32m      <a href='vscode-notebook-cell:/c%3A/Users/wagne/Documents/OneDrive%20-%20Instituto%20Maua%20de%20Tecnologia/Documentos/Estatistica/T1/TTI109_Atividade_Estat%C3%ADstica_Descritiva_V2.ipynb#W1sZmlsZQ%3D%3D?line=3'>4</a>\u001b[0m \u001b[39m# Importação dos dados\u001b[39;00m\n",
            "\u001b[1;31mModuleNotFoundError\u001b[0m: No module named 'pandas'"
          ]
        }
      ],
      "source": [
        "import pandas as pd\n",
        "import matplotlib.pyplot as plt\n",
        "\n",
        "# Importação dos dados\n",
        "casas = pd.read_csv('alugueis.csv')\n",
        "\n",
        "# Inspecção das 10 primeiras linhas do DataFrame\n",
        "casas.head(10)"
      ]
    },
    {
      "cell_type": "markdown",
      "metadata": {
        "id": "seh5LJAhoFtw"
      },
      "source": [
        "## Distribuição dos seguros residenciais\n",
        "Construa histogramas para a distribuição de seguros residenciais em cada uma das cidades. A separação dos dados por cidade já está codificada nos DataFrames `casas_Gotham` e `casas_Met`.\n",
        "\n",
        "Além disso, nos histogramas aplique:\n",
        "\n",
        "*   Limite inferior da primeira classe: $0$\n",
        "*   Limite superior da última classe: $170$\n",
        "*   Amplitude das classes: $10$\n",
        "*   Eixo horizontal calibrado nos pontos médios das classes\n",
        "\n",
        "\n",
        "\n",
        "\n",
        "\n"
      ]
    },
    {
      "cell_type": "code",
      "execution_count": null,
      "metadata": {
        "id": "-kYauBgejS2n"
      },
      "outputs": [],
      "source": [
        "## Histograma de seguros - Gotham City\n",
        "\n",
        "# Escolhendo a cidade de Gotham\n",
        "casas_Gotham = casas.loc[casas['Cidade']=='Gotham']\n",
        "\n",
        "# Constantes para construção das classes\n",
        "MIN = 0\n",
        "MAX = 170\n",
        "AMP = 10\n",
        "TAM_FIG = (10, 6)\n",
        "\n",
        "# Determinação das classes\n",
        "classes = pd.interval_range(start=MIN, end=MAX, freq=AMP)\n",
        "\n",
        "# Pontos médios das classes\n",
        "medios = [classe.mid for classe in classes]\n",
        "\n",
        "# Histograma Gotham\n",
        "hist_seg_Gotham = casas_Gotham['Seguro'].hist(bins=[classe.left for classe in classes]+\n",
        "                                              [classes[-1].right],\n",
        "                                              color='green', edgecolor='black',\n",
        "                                              grid=False, figsize=TAM_FIG)\n",
        "\n",
        "# Escalas dos eixos dos histogramas\n",
        "eixo_x = medios\n",
        "\n",
        "# Atributos do histograma\n",
        "hist_seg_Gotham.set(title='Seguros residenciais em Gotham City',\n",
        "                    xlabel='Seguro', ylabel='Frequência',\n",
        "                    xticks=eixo_x)\n",
        "plt.show()"
      ]
    },
    {
      "cell_type": "code",
      "execution_count": null,
      "metadata": {
        "id": "RIEI6c9foq4I"
      },
      "outputs": [],
      "source": [
        "## Histograma de seguros - Metrópolis\n",
        "\n",
        "# Escolhendo a cidade de Metrópolis\n",
        "casas_Met = casas.loc[casas['Cidade']=='Metrópolis']\n",
        "\n",
        "# Constantes para construção das classes\n",
        "MIN = 0\n",
        "MAX = 170\n",
        "AMP = 10\n",
        "TAM_FIG = (10, 6)\n",
        "\n",
        "# Determinação das classes\n",
        "classes = pd.interval_range(start=MIN, end=MAX, freq=AMP)\n",
        "\n",
        "# Pontos médios das classes\n",
        "medios = [classe.mid for classe in classes]\n",
        "\n",
        "# Histograma Metrópolis\n",
        "hist_seg_Met = casas_Met['Seguro'].hist(bins=[classe.left for classe in classes]+\n",
        "                                              [classes[-1].right],\n",
        "                                              color='green', edgecolor='black',\n",
        "                                              grid=False, figsize=TAM_FIG)\n",
        "\n",
        "# Escalas dos eixos dos histogramas\n",
        "eixo_x = medios\n",
        "\n",
        "# Atributos do histograma\n",
        "hist_seg_Met.set(title='Seguros residenciais em Metrópolis',\n",
        "                 xlabel='Seguro', ylabel='Frequência',\n",
        "                 xticks=medios)\n",
        "plt.show()"
      ]
    },
    {
      "cell_type": "markdown",
      "metadata": {
        "id": "gCycTH0Qql-1"
      },
      "source": [
        "## Responda:\n",
        "Quais as duas classes mais frequentes em cada histograma?  \n"
      ]
    },
    {
      "cell_type": "code",
      "execution_count": null,
      "metadata": {
        "id": "V6jE1arYdQ4u"
      },
      "outputs": [],
      "source": [
        "resp_1 = \"25 e 15\" # @param {type:\"string\"}\n",
        "print(resp_1)"
      ]
    },
    {
      "cell_type": "markdown",
      "metadata": {
        "id": "V6i00uZ0dNe-"
      },
      "source": [
        "Qual cidade deve ter o seguro médio mais caro? Por quê?\n"
      ]
    },
    {
      "cell_type": "code",
      "execution_count": null,
      "metadata": {
        "id": "QR5_L8-1dtrn"
      },
      "outputs": [],
      "source": [
        "resp_2 = \"Gotham City\" # @param {type:\"string\"}\n",
        "print(resp_2)"
      ]
    },
    {
      "cell_type": "markdown",
      "metadata": {
        "id": "P1rEuoCTrmQA"
      },
      "source": [
        "# Medidas centrais e de variação das distribuições de aluguéis\n",
        "Calcule as medidas centrais e de variação das distribuições de aluguéis em cada cidade (coluna `Total` dos `DataFrames` `casas_Gotham` e `casas_Met`). Use o método `agg` para calcular as medidas necessárias."
      ]
    },
    {
      "cell_type": "code",
      "execution_count": null,
      "metadata": {
        "id": "nc5ZOOeprd-Q"
      },
      "outputs": [],
      "source": [
        "# Medidas centrais e de variação para Gotham City\n",
        "print('**Gotham City**')\n",
        "est_Gotham = casas_Gotham['Total'].agg(['mean', 'median', 'std'])\n",
        "display(est_Gotham)"
      ]
    },
    {
      "cell_type": "code",
      "execution_count": null,
      "metadata": {
        "id": "7P4InD-CgXR-"
      },
      "outputs": [],
      "source": [
        "# Medidas centrais e de variação para Metrópolis\n",
        "print('**Metrópolis**')\n",
        "est_Met = casas_Met['Total'].agg(['mean', 'median', 'std'])\n",
        "display(est_Met)"
      ]
    },
    {
      "cell_type": "markdown",
      "metadata": {
        "id": "QnIzstG6s-7d"
      },
      "source": [
        "## Responda:\n",
        "Qual das cidades apresenta o aluguel médio mais caro?"
      ]
    },
    {
      "cell_type": "code",
      "execution_count": null,
      "metadata": {
        "id": "KOz9jXQxLOZf"
      },
      "outputs": [],
      "source": [
        "resp_3 = \"Gotham City\" # @param {type:\"string\"}\n",
        "print(resp_3)\n"
      ]
    },
    {
      "cell_type": "markdown",
      "metadata": {
        "id": "yB2WgypzLMYV"
      },
      "source": [
        "Qual das cidades apresenta o aluguel com maior mediana?"
      ]
    },
    {
      "cell_type": "code",
      "execution_count": null,
      "metadata": {
        "id": "kdyOOhziL4RG"
      },
      "outputs": [],
      "source": [
        "resp_4 = \"Gotham City\" # @param {type:\"string\"}\n",
        "print(resp_4)\n"
      ]
    },
    {
      "cell_type": "markdown",
      "metadata": {
        "id": "sR7dnvM5Lx7W"
      },
      "source": [
        "Qual das cidades apresenta alugueis com menor desvio padrão?"
      ]
    },
    {
      "cell_type": "code",
      "execution_count": null,
      "metadata": {
        "id": "BMBgATk0MUL2"
      },
      "outputs": [],
      "source": [
        "resp_5 = \"Metrópolis\" # @param {type:\"string\"}\n",
        "print(resp_5)"
      ]
    },
    {
      "cell_type": "markdown",
      "metadata": {
        "id": "0z4ZmRV9tWqO"
      },
      "source": [
        "## Quartis da distribuição de impostos residenciais\n",
        "Determine os quartis para a distribuição de impostos residenciais de cada cidade. A seguir, construa os respectivos diagramas boxplot."
      ]
    },
    {
      "cell_type": "code",
      "execution_count": null,
      "metadata": {
        "id": "-mrVUhfGtPvs"
      },
      "outputs": [],
      "source": [
        "# Lista dos quartis\n",
        "lista_quartis = 0.25, 0.5, 0.75\n",
        "\n",
        "# Quartis dos impostos em Gotham City\n",
        "print('**Gotham City**')\n",
        "imp_Gotham = casas_Gotham['Impostos'].quantile(lista_quartis)\n",
        "display(imp_Gotham)\n",
        "\n",
        "# Quartis dos impostos em Metrópolis\n",
        "print('**Metrópolis**')\n",
        "imp_Met = casas_Met['Impostos'].quantile(lista_quartis)\n",
        "display(imp_Met)\n",
        "\n",
        "# Boxplots\n",
        "casas.boxplot(by='Complete Aqui', column=['Complete Aqui'], color='red',\n",
        "              figsize=TAM_FIG, showmeans=True, whis=1.5)\n",
        "plt.title('Distribuição dos impostos residenciais')\n",
        "plt.suptitle('')\n",
        "plt.ylabel('Imposto')\n",
        "plt.show()"
      ]
    },
    {
      "cell_type": "markdown",
      "metadata": {
        "id": "SgIdR6Esw5G-"
      },
      "source": [
        "## Responda:\n",
        "Com base nos diagramas boxplot, classifique a distribuição dos impostos em cada cidade como simétricas, assimétricas à esquerda ou assimétricas à direita. Por quê?"
      ]
    },
    {
      "cell_type": "code",
      "execution_count": null,
      "metadata": {
        "id": "faWDKNzpwdvv"
      },
      "outputs": [],
      "source": [
        "resp_6 = \"Escreva sua resposta aqui.\" # @param {type:\"string\"}\n",
        "print(resp_6)"
      ]
    },
    {
      "cell_type": "markdown",
      "metadata": {
        "id": "ttFNowPcyCiJ"
      },
      "source": [
        "## Conclusão\n",
        "E então? Quem gasta mais com aluguel: Batman ou Superman?"
      ]
    },
    {
      "cell_type": "code",
      "execution_count": null,
      "metadata": {
        "id": "In4e-czKyxv9"
      },
      "outputs": [],
      "source": [
        "resp_7 = \"Escreva sua resposta aqui.\" # @param {type:\"string\"}\n",
        "print(resp_7)"
      ]
    }
  ],
  "metadata": {
    "colab": {
      "provenance": []
    },
    "kernelspec": {
      "display_name": "Python 3",
      "name": "python3"
    },
    "language_info": {
      "codemirror_mode": {
        "name": "ipython",
        "version": 3
      },
      "file_extension": ".py",
      "mimetype": "text/x-python",
      "name": "python",
      "nbconvert_exporter": "python",
      "pygments_lexer": "ipython3",
      "version": "3.11.5"
    }
  },
  "nbformat": 4,
  "nbformat_minor": 0
}
