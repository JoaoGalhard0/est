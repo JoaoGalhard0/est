{
  "cells": [
    {
      "cell_type": "markdown",
      "metadata": {
        "id": "Ndk0MMS_I7K_"
      },
      "source": [
        "# **TTI109 - Estatística**\n",
        "# **Aula Complementar - Titanic**\n",
        "\n",
        "Nessa aula vamos usar o conjunto de dados `titanic_train.csv` para treinar os conceitos de estatística descritiva. O arquivo de dados está disponível na pasta \"Aula Complementar - Titanic\" na seção \"Aulas\" da página de TTI109 no OPEN LMS."
      ]
    },
    {
      "cell_type": "markdown",
      "metadata": {
        "id": "ap2tq9N8zW9s"
      },
      "source": [
        "## Importação das bibliotecas"
      ]
    },
    {
      "cell_type": "code",
      "execution_count": 3,
      "metadata": {
        "id": "Zk-vqeU0xCXh"
      },
      "outputs": [],
      "source": [
        "import pandas as pd\n",
        "import numpy as np\n",
        "import matplotlib.pyplot as plt"
      ]
    },
    {
      "cell_type": "markdown",
      "metadata": {
        "id": "H2fnbf1lw4UR"
      },
      "source": [
        "## Importação dos dados no formato Pandas DataFrame"
      ]
    },
    {
      "cell_type": "code",
      "execution_count": 9,
      "metadata": {
        "colab": {
          "base_uri": "https://localhost:8080/"
        },
        "id": "eTUJbdKjyhK1",
        "outputId": "6e48d24e-90cd-45d1-f368-d91338e3893f"
      },
      "outputs": [],
      "source": [
        "# from google.colab import drive\n",
        "# drive.mount('/content/drive')"
      ]
    },
    {
      "cell_type": "code",
      "execution_count": 4,
      "metadata": {
        "id": "4cFUEno5xI-S"
      },
      "outputs": [],
      "source": [
        "titanic = pd.read_csv('titanic_train.csv')"
      ]
    },
    {
      "cell_type": "markdown",
      "metadata": {
        "id": "uT-M6sFmxJVB"
      },
      "source": [
        "## Análise exploratória\n",
        "\n",
        "* Qual a dimensão dos conjunto de dados?\n",
        "* Quais as colunas estão disponíveis para análise? Quais são os tipos de dados?\n",
        "* Quais colunas são numéricas? Quais são categóricas ou cadastrais?\n",
        "* Existem dados faltantes? Quantos? Em quais colunas? Em caso afirmativo, como proceder?"
      ]
    },
    {
      "cell_type": "code",
      "execution_count": 5,
      "metadata": {
        "id": "5bE73sw-yAmB"
      },
      "outputs": [
        {
          "name": "stdout",
          "output_type": "stream",
          "text": [
            "Dimensão do conjunto de dados = (891, 12)\n"
          ]
        }
      ],
      "source": [
        "# Dimensão dos dados\n",
        "dim = titanic.shape\n",
        "print(f'Dimensão do conjunto de dados = {dim}')"
      ]
    },
    {
      "cell_type": "code",
      "execution_count": 6,
      "metadata": {
        "id": "1vJlIDIPzWVZ"
      },
      "outputs": [
        {
          "name": "stdout",
          "output_type": "stream",
          "text": [
            "Colunas disponíveis: \n",
            "Index(['PassengerId', 'Survived', 'Pclass', 'Name', 'Sex', 'Age', 'SibSp',\n",
            "       'Parch', 'Ticket', 'Fare', 'Cabin', 'Embarked'],\n",
            "      dtype='object')\n"
          ]
        }
      ],
      "source": [
        "# Colunas disponíveis\n",
        "col = titanic.columns\n",
        "print(f'Colunas disponíveis: \\n{col}')"
      ]
    },
    {
      "cell_type": "code",
      "execution_count": 13,
      "metadata": {
        "id": "kKz_hsCI1sLI"
      },
      "outputs": [
        {
          "name": "stdout",
          "output_type": "stream",
          "text": [
            "PassengerId      int64\n",
            "Survived         int64\n",
            "Pclass           int64\n",
            "Name            object\n",
            "Sex             object\n",
            "Age            float64\n",
            "SibSp            int64\n",
            "Parch            int64\n",
            "Ticket          object\n",
            "Fare           float64\n",
            "Cabin           object\n",
            "Embarked        object\n",
            "dtype: object\n"
          ]
        }
      ],
      "source": [
        "# Tipos de dados\n",
        "print(titanic.dtypes)"
      ]
    },
    {
      "cell_type": "code",
      "execution_count": 14,
      "metadata": {
        "id": "E-cfivmR0EQo"
      },
      "outputs": [
        {
          "data": {
            "text/html": [
              "<div>\n",
              "<style scoped>\n",
              "    .dataframe tbody tr th:only-of-type {\n",
              "        vertical-align: middle;\n",
              "    }\n",
              "\n",
              "    .dataframe tbody tr th {\n",
              "        vertical-align: top;\n",
              "    }\n",
              "\n",
              "    .dataframe thead th {\n",
              "        text-align: right;\n",
              "    }\n",
              "</style>\n",
              "<table border=\"1\" class=\"dataframe\">\n",
              "  <thead>\n",
              "    <tr style=\"text-align: right;\">\n",
              "      <th></th>\n",
              "      <th>PassengerId</th>\n",
              "      <th>Survived</th>\n",
              "      <th>Pclass</th>\n",
              "      <th>Age</th>\n",
              "      <th>SibSp</th>\n",
              "      <th>Parch</th>\n",
              "      <th>Fare</th>\n",
              "    </tr>\n",
              "  </thead>\n",
              "  <tbody>\n",
              "    <tr>\n",
              "      <th>0</th>\n",
              "      <td>1</td>\n",
              "      <td>0</td>\n",
              "      <td>3</td>\n",
              "      <td>22.0</td>\n",
              "      <td>1</td>\n",
              "      <td>0</td>\n",
              "      <td>7.2500</td>\n",
              "    </tr>\n",
              "    <tr>\n",
              "      <th>1</th>\n",
              "      <td>2</td>\n",
              "      <td>1</td>\n",
              "      <td>1</td>\n",
              "      <td>38.0</td>\n",
              "      <td>1</td>\n",
              "      <td>0</td>\n",
              "      <td>71.2833</td>\n",
              "    </tr>\n",
              "    <tr>\n",
              "      <th>2</th>\n",
              "      <td>3</td>\n",
              "      <td>1</td>\n",
              "      <td>3</td>\n",
              "      <td>26.0</td>\n",
              "      <td>0</td>\n",
              "      <td>0</td>\n",
              "      <td>7.9250</td>\n",
              "    </tr>\n",
              "    <tr>\n",
              "      <th>3</th>\n",
              "      <td>4</td>\n",
              "      <td>1</td>\n",
              "      <td>1</td>\n",
              "      <td>35.0</td>\n",
              "      <td>1</td>\n",
              "      <td>0</td>\n",
              "      <td>53.1000</td>\n",
              "    </tr>\n",
              "    <tr>\n",
              "      <th>4</th>\n",
              "      <td>5</td>\n",
              "      <td>0</td>\n",
              "      <td>3</td>\n",
              "      <td>35.0</td>\n",
              "      <td>0</td>\n",
              "      <td>0</td>\n",
              "      <td>8.0500</td>\n",
              "    </tr>\n",
              "  </tbody>\n",
              "</table>\n",
              "</div>"
            ],
            "text/plain": [
              "   PassengerId  Survived  Pclass   Age  SibSp  Parch     Fare\n",
              "0            1         0       3  22.0      1      0   7.2500\n",
              "1            2         1       1  38.0      1      0  71.2833\n",
              "2            3         1       3  26.0      0      0   7.9250\n",
              "3            4         1       1  35.0      1      0  53.1000\n",
              "4            5         0       3  35.0      0      0   8.0500"
            ]
          },
          "execution_count": 14,
          "metadata": {},
          "output_type": "execute_result"
        }
      ],
      "source": [
        "# Colunas numéricas\n",
        "titanic.select_dtypes(include='number').head()"
      ]
    },
    {
      "cell_type": "code",
      "execution_count": 15,
      "metadata": {
        "id": "fH4j447G0Ht_"
      },
      "outputs": [
        {
          "data": {
            "text/html": [
              "<div>\n",
              "<style scoped>\n",
              "    .dataframe tbody tr th:only-of-type {\n",
              "        vertical-align: middle;\n",
              "    }\n",
              "\n",
              "    .dataframe tbody tr th {\n",
              "        vertical-align: top;\n",
              "    }\n",
              "\n",
              "    .dataframe thead th {\n",
              "        text-align: right;\n",
              "    }\n",
              "</style>\n",
              "<table border=\"1\" class=\"dataframe\">\n",
              "  <thead>\n",
              "    <tr style=\"text-align: right;\">\n",
              "      <th></th>\n",
              "      <th>Name</th>\n",
              "      <th>Sex</th>\n",
              "      <th>Ticket</th>\n",
              "      <th>Cabin</th>\n",
              "      <th>Embarked</th>\n",
              "    </tr>\n",
              "  </thead>\n",
              "  <tbody>\n",
              "    <tr>\n",
              "      <th>0</th>\n",
              "      <td>Braund, Mr. Owen Harris</td>\n",
              "      <td>male</td>\n",
              "      <td>A/5 21171</td>\n",
              "      <td>NaN</td>\n",
              "      <td>S</td>\n",
              "    </tr>\n",
              "    <tr>\n",
              "      <th>1</th>\n",
              "      <td>Cumings, Mrs. John Bradley (Florence Briggs Th...</td>\n",
              "      <td>female</td>\n",
              "      <td>PC 17599</td>\n",
              "      <td>C85</td>\n",
              "      <td>C</td>\n",
              "    </tr>\n",
              "    <tr>\n",
              "      <th>2</th>\n",
              "      <td>Heikkinen, Miss. Laina</td>\n",
              "      <td>female</td>\n",
              "      <td>STON/O2. 3101282</td>\n",
              "      <td>NaN</td>\n",
              "      <td>S</td>\n",
              "    </tr>\n",
              "    <tr>\n",
              "      <th>3</th>\n",
              "      <td>Futrelle, Mrs. Jacques Heath (Lily May Peel)</td>\n",
              "      <td>female</td>\n",
              "      <td>113803</td>\n",
              "      <td>C123</td>\n",
              "      <td>S</td>\n",
              "    </tr>\n",
              "    <tr>\n",
              "      <th>4</th>\n",
              "      <td>Allen, Mr. William Henry</td>\n",
              "      <td>male</td>\n",
              "      <td>373450</td>\n",
              "      <td>NaN</td>\n",
              "      <td>S</td>\n",
              "    </tr>\n",
              "  </tbody>\n",
              "</table>\n",
              "</div>"
            ],
            "text/plain": [
              "                                                Name     Sex  \\\n",
              "0                            Braund, Mr. Owen Harris    male   \n",
              "1  Cumings, Mrs. John Bradley (Florence Briggs Th...  female   \n",
              "2                             Heikkinen, Miss. Laina  female   \n",
              "3       Futrelle, Mrs. Jacques Heath (Lily May Peel)  female   \n",
              "4                           Allen, Mr. William Henry    male   \n",
              "\n",
              "             Ticket Cabin Embarked  \n",
              "0         A/5 21171   NaN        S  \n",
              "1          PC 17599   C85        C  \n",
              "2  STON/O2. 3101282   NaN        S  \n",
              "3            113803  C123        S  \n",
              "4            373450   NaN        S  "
            ]
          },
          "execution_count": 15,
          "metadata": {},
          "output_type": "execute_result"
        }
      ],
      "source": [
        "# Colunas categóricas ou cadastrais\n",
        "titanic.select_dtypes(include='object').head()"
      ]
    },
    {
      "cell_type": "code",
      "execution_count": 16,
      "metadata": {
        "id": "bMWQLcLS2PNd"
      },
      "outputs": [
        {
          "name": "stdout",
          "output_type": "stream",
          "text": [
            "<class 'pandas.core.frame.DataFrame'>\n",
            "RangeIndex: 891 entries, 0 to 890\n",
            "Data columns (total 12 columns):\n",
            " #   Column       Non-Null Count  Dtype  \n",
            "---  ------       --------------  -----  \n",
            " 0   PassengerId  891 non-null    int64  \n",
            " 1   Survived     891 non-null    int64  \n",
            " 2   Pclass       891 non-null    int64  \n",
            " 3   Name         891 non-null    object \n",
            " 4   Sex          891 non-null    object \n",
            " 5   Age          714 non-null    float64\n",
            " 6   SibSp        891 non-null    int64  \n",
            " 7   Parch        891 non-null    int64  \n",
            " 8   Ticket       891 non-null    object \n",
            " 9   Fare         891 non-null    float64\n",
            " 10  Cabin        204 non-null    object \n",
            " 11  Embarked     889 non-null    object \n",
            "dtypes: float64(2), int64(5), object(5)\n",
            "memory usage: 83.7+ KB\n"
          ]
        }
      ],
      "source": [
        "# Dados faltantes\n",
        "titanic.info()"
      ]
    },
    {
      "cell_type": "code",
      "execution_count": 17,
      "metadata": {
        "id": "M38TvoVC2eZm"
      },
      "outputs": [
        {
          "data": {
            "text/plain": [
              "PassengerId      0\n",
              "Survived         0\n",
              "Pclass           0\n",
              "Name             0\n",
              "Sex              0\n",
              "Age            177\n",
              "SibSp            0\n",
              "Parch            0\n",
              "Ticket           0\n",
              "Fare             0\n",
              "Cabin          687\n",
              "Embarked         2\n",
              "dtype: int64"
            ]
          },
          "execution_count": 17,
          "metadata": {},
          "output_type": "execute_result"
        }
      ],
      "source": [
        "# Existem valores faltantes nas colunas 'Age', 'Cabin' e 'Embarked'\n",
        "# Quantos valores faltantes?\n",
        "titanic.isnull().sum()"
      ]
    },
    {
      "cell_type": "markdown",
      "metadata": {
        "id": "SzS8RG_S2n0y"
      },
      "source": [
        "A coluna `'Age'` é de nosso interesse na análise e descrição dos dados. É preciso preencher os dados faltantes com alguma informação relevante à distribuição das idades.\n",
        "\n",
        "Aqui, vamos adotar a seguinte estratégia:\n",
        "\n",
        "* Agrupar os passageiros por classe (`'Pclass'`), sobrevivência ao naufrágio (`'Survived'`) e por gênero (`'Sex'`);\n",
        "* Calcular a média das idades de cada agrupamento;\n",
        "* Substituir os valores faltantes pela média do agrupamento a que pertence o indivíduo cuja idade não está registrada."
      ]
    },
    {
      "cell_type": "code",
      "execution_count": 18,
      "metadata": {
        "id": "uknL5OlxSMsO"
      },
      "outputs": [
        {
          "name": "stdout",
          "output_type": "stream",
          "text": [
            "Pclass  Survived  Sex   \n",
            "1       0         female    25.666667\n",
            "                  male      44.581967\n",
            "        1         female    34.939024\n",
            "                  male      36.248000\n",
            "2       0         female    36.000000\n",
            "                  male      33.369048\n",
            "        1         female    28.080882\n",
            "                  male      16.022000\n",
            "3       0         female    23.818182\n",
            "                  male      27.255814\n",
            "        1         female    19.329787\n",
            "                  male      22.274211\n",
            "Name: Age_Fill, dtype: float64\n"
          ]
        }
      ],
      "source": [
        "# Mantendo a coluna 'Age' (com valores faltantes) e criando uma cópia 'Age_Fill',\n",
        "# cujas entradas faltantes serão preenchidas pelas médias dos agrupamentos\n",
        "titanic['Age_Fill'] = titanic['Age']\n",
        "\n",
        "# Criando os agrupamentos e calculando as médias\n",
        "grupos = titanic['Age_Fill'].groupby([titanic['Pclass'], titanic['Survived'], titanic['Sex']], group_keys= False)\n",
        "\n",
        "print(grupos.mean())"
      ]
    },
    {
      "cell_type": "code",
      "execution_count": 19,
      "metadata": {
        "id": "jeP4FvXK9epo"
      },
      "outputs": [
        {
          "data": {
            "text/plain": [
              "PassengerId                              177\n",
              "Survived                                   0\n",
              "Pclass                                     3\n",
              "Name           Lefebre, Master. Henry Forbes\n",
              "Sex                                     male\n",
              "Age                                      NaN\n",
              "SibSp                                      3\n",
              "Parch                                      1\n",
              "Ticket                                  4133\n",
              "Fare                                 25.4667\n",
              "Cabin                                    NaN\n",
              "Embarked                                   S\n",
              "Age_Fill                           27.255814\n",
              "Name: 176, dtype: object"
            ]
          },
          "metadata": {},
          "output_type": "display_data"
        }
      ],
      "source": [
        "# Preenchendo os valores faltantes da coluna 'Age_Fill'\n",
        "titanic['Age_Fill'] = grupos.apply(lambda x: x.fillna(x.mean()))\n",
        "\n",
        "# O passageiro registrado na linha 176 é um homem que embarcou na 3a classe\n",
        "# e não sobreviveu. Sua idade não está registrada ('Age' = NaN)\n",
        "# Note que a idade presente na coluna 'Age_Fill' condiz com o agrupamento ao\n",
        "# qual pertence o referido passageiro\n",
        "display(titanic.iloc[176])"
      ]
    },
    {
      "cell_type": "markdown",
      "metadata": {
        "id": "S-ILzMyRyBHx"
      },
      "source": [
        "## Descrição dos dados\n",
        "\n",
        "Construa gráficos / diagramas que descrevam de forma adequada:\n",
        "\n",
        "**a)** A distribuição do gênero dos passageiros."
      ]
    },
    {
      "cell_type": "code",
      "execution_count": 20,
      "metadata": {
        "id": "KhmT87Yiygrc"
      },
      "outputs": [
        {
          "name": "stdout",
          "output_type": "stream",
          "text": [
            "Sex\n",
            "male      577\n",
            "female    314\n",
            "Name: count, dtype: int64\n"
          ]
        },
        {
          "data": {
            "image/png": "[encoded data removed]",
            "text/plain": [
              "<Figure size 640x480 with 1 Axes>"
            ]
          },
          "metadata": {},
          "output_type": "display_data"
        }
      ],
      "source": [
        "# Distribuição de gênero dos passageiros\n",
        "dist_genero = titanic['Sex'].value_counts()\n",
        "print(dist_genero)\n",
        "plt.pie(x=dist_genero.values, labels=dist_genero.index, autopct='%1.1f%%', shadow=True, startangle=90, explode=[0.05]*len(dist_genero))\n",
        "plt.show()"
      ]
    },
    {
      "cell_type": "code",
      "execution_count": 21,
      "metadata": {
        "id": "D9kMUM0wAFLu"
      },
      "outputs": [
        {
          "data": {
            "image/png": "[encoded data removed]",
            "text/plain": [
              "<Figure size 640x480 with 1 Axes>"
            ]
          },
          "metadata": {},
          "output_type": "display_data"
        }
      ],
      "source": [
        "# Alternativa - Usando um prórpio código para formatação dos dados\n",
        "def autopct_format(values):\n",
        "  def my_format(pct):\n",
        "    total = sum(values)\n",
        "    val = int(round(pct*total/100.0))\n",
        "    return f'{pct:.1f}%\\n({val:d})'\n",
        "  return my_format\n",
        "\n",
        "plt.pie(dist_genero.values, labels=dist_genero.index,\n",
        "        autopct=autopct_format(dist_genero.values),\n",
        "        shadow=True, startangle=90,\n",
        "        explode=[0.05]*len(dist_genero.values))\n",
        "plt.title('Passageiros do Titanic, por gênero')\n",
        "plt.show()"
      ]
    },
    {
      "cell_type": "markdown",
      "metadata": {
        "id": "n2TwGe0CCOp2"
      },
      "source": [
        "**b)** A distribuição dos sobreviventes."
      ]
    },
    {
      "cell_type": "code",
      "execution_count": 22,
      "metadata": {
        "id": "3WXlsB0TORD8"
      },
      "outputs": [
        {
          "name": "stdout",
          "output_type": "stream",
          "text": [
            "Survived\n",
            "0    549\n",
            "1    342\n",
            "Name: count, dtype: int64\n"
          ]
        },
        {
          "data": {
            "image/png": "[encoded data removed]",
            "text/plain": [
              "<Figure size 640x480 with 1 Axes>"
            ]
          },
          "metadata": {},
          "output_type": "display_data"
        }
      ],
      "source": [
        "# Distribuição de sobreviventes\n",
        "dist_sob = titanic['Survived'].value_counts()\n",
        "print(dist_sob)\n",
        "plt.pie(x=dist_sob.values, labels=['Não', 'Sim'], autopct=autopct_format(dist_sob.values), shadow=True, startangle=45, explode=[0.05]*len(dist_genero))\n",
        "plt.title('Passageiros do Titanic\\n Sobrevivência ao naufrágio')\n",
        "plt.show()"
      ]
    },
    {
      "cell_type": "code",
      "execution_count": 23,
      "metadata": {
        "id": "a9OuPDO4CvAf"
      },
      "outputs": [
        {
          "data": {
            "image/png": "[encoded data removed]",
            "text/plain": [
              "<Figure size 640x480 with 1 Axes>"
            ]
          },
          "metadata": {},
          "output_type": "display_data"
        }
      ],
      "source": [
        "# Alternativa - Usando um prórpio código para formatação dos dados\n",
        "plt.pie(dist_sob.values, labels=['Não', 'Sim'],\n",
        "        autopct=autopct_format(dist_sob.values),\n",
        "        shadow=True, startangle=90,\n",
        "        explode=[0.05]*len(dist_sob.values))\n",
        "plt.title('Passageiros do Titanic\\n Sobrevivência ao naufrágio')\n",
        "plt.show()"
      ]
    },
    {
      "cell_type": "markdown",
      "metadata": {
        "id": "0e3-y5P0DPLu"
      },
      "source": [
        "**c)** O número de sobreviventes em função:\n",
        "\n",
        "* do gênero dos passageiros;\n",
        "* da classe dos passageiros;\n",
        "* do local de embarque dos passageiros."
      ]
    },
    {
      "cell_type": "code",
      "execution_count": 24,
      "metadata": {
        "id": "-WHyS13W9XRt"
      },
      "outputs": [
        {
          "name": "stdout",
          "output_type": "stream",
          "text": [
            "Sex\n",
            "female    233\n",
            "male      109\n",
            "Name: Survived, dtype: int64\n",
            "Pclass\n",
            "1    136\n",
            "2     87\n",
            "3    119\n",
            "Name: Survived, dtype: int64\n",
            "Embarked\n",
            "C     93\n",
            "Q     30\n",
            "S    217\n",
            "Name: Survived, dtype: int64\n"
          ]
        },
        {
          "data": {
            "image/png": "[encoded data removed]",
            "text/plain": [
              "<Figure size 1500x500 with 3 Axes>"
            ]
          },
          "metadata": {},
          "output_type": "display_data"
        }
      ],
      "source": [
        "# Criação dos subplots para os gráficos de barra\n",
        "fig, (axis1, axis2, axis3) = plt.subplots(1, 3, figsize = (15, 5))\n",
        "fig.suptitle('Número de sobreviventes do naufrágio do Titanic', fontsize=12)\n",
        "fig.supylabel('Sobreviventes')\n",
        "\n",
        "# Distribuição de sobreviventes em função:\n",
        "# - do gênero dos passageiros\n",
        "agg1 = titanic.groupby('Sex').agg('Survived').sum()\n",
        "print(agg1)\n",
        "agg1.plot(kind='bar', x='Sex', y='Survived', rot=0, ax=axis1)\n",
        "\n",
        "# - da classe dos passageiros\n",
        "agg2 = titanic.groupby('Pclass').agg('Survived').sum()\n",
        "print(agg2)\n",
        "agg2.plot(kind='bar', x='Pclass', y='Survived', rot=0, ax=axis2)\n",
        "\n",
        "# - do local de embarque dos passageiros\n",
        "agg3 = titanic.groupby('Embarked').agg('Survived').sum()\n",
        "print(agg3)\n",
        "agg3.plot(kind='bar', x='Embarked', y='Survived', rot=0, ax=axis3)\n",
        "\n",
        "plt.tight_layout()\n",
        "plt.show()"
      ]
    },
    {
      "cell_type": "markdown",
      "metadata": {
        "id": "RqcVLi4AE5I1"
      },
      "source": [
        "**d)** O número de sobreviventes em cada classe, por gênero."
      ]
    },
    {
      "cell_type": "code",
      "execution_count": 25,
      "metadata": {
        "id": "24SjVaOtBxtn"
      },
      "outputs": [
        {
          "name": "stdout",
          "output_type": "stream",
          "text": [
            "Pclass  Sex   \n",
            "1       female    91\n",
            "        male      45\n",
            "2       female    70\n",
            "        male      17\n",
            "3       female    72\n",
            "        male      47\n",
            "Name: Survived, dtype: int64\n"
          ]
        },
        {
          "data": {
            "image/png": "[encoded data removed]",
            "text/plain": [
              "<Figure size 640x480 with 1 Axes>"
            ]
          },
          "metadata": {},
          "output_type": "display_data"
        }
      ],
      "source": [
        "agg4 = titanic.groupby(['Pclass', 'Sex']).agg('Survived').sum()\n",
        "print(agg4)\n",
        "agg4.plot(kind='bar', y='Survived', rot=0)\n",
        "\n",
        "plt.tight_layout()\n",
        "plt.title('Sobreviventes por gênero / classe')\n",
        "plt.ylabel('Número de sobreviventes')\n",
        "plt.show()"
      ]
    },
    {
      "cell_type": "markdown",
      "metadata": {
        "id": "SbpLNKolGbJF"
      },
      "source": [
        "**e)** A distribuição de idade dos passageiros, em classes com amplitude de 5 anos."
      ]
    },
    {
      "cell_type": "code",
      "execution_count": 26,
      "metadata": {
        "id": "PQfMTV-cD0Tx"
      },
      "outputs": [
        {
          "name": "stdout",
          "output_type": "stream",
          "text": [
            "Distribuição de idades dos passageiros:\n",
            "Age_Fill\n",
            "(-0.001, 5.0]     44\n",
            "(5.0, 10.0]       20\n",
            "(10.0, 15.0]      19\n",
            "(15.0, 20.0]     123\n",
            "(20.0, 25.0]     148\n",
            "(25.0, 30.0]     195\n",
            "(30.0, 35.0]     104\n",
            "(35.0, 40.0]      72\n",
            "(40.0, 45.0]      63\n",
            "(45.0, 50.0]      39\n",
            "(50.0, 55.0]      24\n",
            "(55.0, 60.0]      18\n",
            "(60.0, 65.0]      14\n",
            "(65.0, 70.0]       3\n",
            "(70.0, 75.0]       4\n",
            "(75.0, 80.0]       1\n",
            "Name: count, dtype: int64\n"
          ]
        },
        {
          "data": {
            "image/png": "[encoded data removed]",
            "text/plain": [
              "<Figure size 640x480 with 1 Axes>"
            ]
          },
          "metadata": {},
          "output_type": "display_data"
        }
      ],
      "source": [
        "dist_idade = titanic['Age_Fill'].value_counts(bins=(list(range(0, 85, 5)))).sort_index()\n",
        "print(f'Distribuição de idades dos passageiros:\\n{dist_idade}')\n",
        "titanic['Age_Fill'].hist(bins=list(range(0, 85, 5)), grid=False, color='blue', edgecolor='black')\n",
        "\n",
        "plt.title('Distribuição de idades dos passageiros')\n",
        "plt.xlabel('Idade')\n",
        "plt.ylabel('Número de passageiros')\n",
        "plt.show()"
      ]
    },
    {
      "cell_type": "markdown",
      "metadata": {
        "id": "Tt9HTWAaIdHD"
      },
      "source": [
        "**f)** A distribuição de idades dos passageiros que não sobreviveram ao naufrágio."
      ]
    },
    {
      "cell_type": "code",
      "execution_count": 27,
      "metadata": {
        "id": "1JXV1xR5IlHg"
      },
      "outputs": [
        {
          "data": {
            "image/png": "[encoded data removed]",
            "text/plain": [
              "<Figure size 640x480 with 1 Axes>"
            ]
          },
          "metadata": {},
          "output_type": "display_data"
        }
      ],
      "source": [
        "titanic[titanic['Survived'] == 0]['Age_Fill'].hist(bins=list(range(0, 85, 5)), grid= True, color='red', edgecolor='black')\n",
        "\n",
        "plt.title('Distribuição de idades dos passageiros\\n mortos no naufrágio')\n",
        "plt.xlabel('Idade')\n",
        "plt.ylabel('Número de passageiros')\n",
        "plt.show()"
      ]
    },
    {
      "cell_type": "markdown",
      "metadata": {
        "id": "Lynv3x07KNjB"
      },
      "source": [
        "**g)** A distribuição de idades dos passageiros que sobreviveram ao naufrágio."
      ]
    },
    {
      "cell_type": "code",
      "execution_count": 28,
      "metadata": {
        "id": "6flHovwoNCJz"
      },
      "outputs": [
        {
          "data": {
            "image/png": "[encoded data removed]",
            "text/plain": [
              "<Figure size 640x480 with 1 Axes>"
            ]
          },
          "metadata": {},
          "output_type": "display_data"
        }
      ],
      "source": [
        "titanic[titanic['Survived'] == 1]['Age_Fill'].hist(bins=list(range(0, 85, 5)), grid=False, color='green', edgecolor='black')\n",
        "\n",
        "plt.title('Distribuição de idades dos passageiros\\n que sobreviveram ao naufrágio')\n",
        "plt.xlabel('Idade')\n",
        "plt.ylabel('Número de passageiros')\n",
        "plt.show()"
      ]
    },
    {
      "cell_type": "markdown",
      "metadata": {
        "id": "pI3bHeJvKvcs"
      },
      "source": [
        "**h)** A distribuição de idades dos passageiros, identificando possíveis *oultiers*."
      ]
    },
    {
      "cell_type": "code",
      "execution_count": 29,
      "metadata": {
        "id": "m6VNAVPMLaHh"
      },
      "outputs": [
        {
          "data": {
            "text/html": [
              "<div>\n",
              "<style scoped>\n",
              "    .dataframe tbody tr th:only-of-type {\n",
              "        vertical-align: middle;\n",
              "    }\n",
              "\n",
              "    .dataframe tbody tr th {\n",
              "        vertical-align: top;\n",
              "    }\n",
              "\n",
              "    .dataframe thead th {\n",
              "        text-align: right;\n",
              "    }\n",
              "</style>\n",
              "<table border=\"1\" class=\"dataframe\">\n",
              "  <thead>\n",
              "    <tr style=\"text-align: right;\">\n",
              "      <th></th>\n",
              "      <th>PassengerId</th>\n",
              "      <th>Survived</th>\n",
              "      <th>Pclass</th>\n",
              "      <th>Age</th>\n",
              "      <th>SibSp</th>\n",
              "      <th>Parch</th>\n",
              "      <th>Fare</th>\n",
              "      <th>Age_Fill</th>\n",
              "    </tr>\n",
              "  </thead>\n",
              "  <tbody>\n",
              "    <tr>\n",
              "      <th>count</th>\n",
              "      <td>891.000000</td>\n",
              "      <td>891.000000</td>\n",
              "      <td>891.000000</td>\n",
              "      <td>714.000000</td>\n",
              "      <td>891.000000</td>\n",
              "      <td>891.000000</td>\n",
              "      <td>891.000000</td>\n",
              "      <td>891.000000</td>\n",
              "    </tr>\n",
              "    <tr>\n",
              "      <th>mean</th>\n",
              "      <td>446.000000</td>\n",
              "      <td>0.383838</td>\n",
              "      <td>2.308642</td>\n",
              "      <td>29.699118</td>\n",
              "      <td>0.523008</td>\n",
              "      <td>0.381594</td>\n",
              "      <td>32.204208</td>\n",
              "      <td>29.339313</td>\n",
              "    </tr>\n",
              "    <tr>\n",
              "      <th>std</th>\n",
              "      <td>257.353842</td>\n",
              "      <td>0.486592</td>\n",
              "      <td>0.836071</td>\n",
              "      <td>14.526497</td>\n",
              "      <td>1.102743</td>\n",
              "      <td>0.806057</td>\n",
              "      <td>49.693429</td>\n",
              "      <td>13.370271</td>\n",
              "    </tr>\n",
              "    <tr>\n",
              "      <th>min</th>\n",
              "      <td>1.000000</td>\n",
              "      <td>0.000000</td>\n",
              "      <td>1.000000</td>\n",
              "      <td>0.420000</td>\n",
              "      <td>0.000000</td>\n",
              "      <td>0.000000</td>\n",
              "      <td>0.000000</td>\n",
              "      <td>0.420000</td>\n",
              "    </tr>\n",
              "    <tr>\n",
              "      <th>25%</th>\n",
              "      <td>223.500000</td>\n",
              "      <td>0.000000</td>\n",
              "      <td>2.000000</td>\n",
              "      <td>20.125000</td>\n",
              "      <td>0.000000</td>\n",
              "      <td>0.000000</td>\n",
              "      <td>7.910400</td>\n",
              "      <td>21.000000</td>\n",
              "    </tr>\n",
              "    <tr>\n",
              "      <th>50%</th>\n",
              "      <td>446.000000</td>\n",
              "      <td>0.000000</td>\n",
              "      <td>3.000000</td>\n",
              "      <td>28.000000</td>\n",
              "      <td>0.000000</td>\n",
              "      <td>0.000000</td>\n",
              "      <td>14.454200</td>\n",
              "      <td>27.255814</td>\n",
              "    </tr>\n",
              "    <tr>\n",
              "      <th>75%</th>\n",
              "      <td>668.500000</td>\n",
              "      <td>1.000000</td>\n",
              "      <td>3.000000</td>\n",
              "      <td>38.000000</td>\n",
              "      <td>1.000000</td>\n",
              "      <td>0.000000</td>\n",
              "      <td>31.000000</td>\n",
              "      <td>36.000000</td>\n",
              "    </tr>\n",
              "    <tr>\n",
              "      <th>max</th>\n",
              "      <td>891.000000</td>\n",
              "      <td>1.000000</td>\n",
              "      <td>3.000000</td>\n",
              "      <td>80.000000</td>\n",
              "      <td>8.000000</td>\n",
              "      <td>6.000000</td>\n",
              "      <td>512.329200</td>\n",
              "      <td>80.000000</td>\n",
              "    </tr>\n",
              "  </tbody>\n",
              "</table>\n",
              "</div>"
            ],
            "text/plain": [
              "       PassengerId    Survived      Pclass         Age       SibSp  \\\n",
              "count   891.000000  891.000000  891.000000  714.000000  891.000000   \n",
              "mean    446.000000    0.383838    2.308642   29.699118    0.523008   \n",
              "std     257.353842    0.486592    0.836071   14.526497    1.102743   \n",
              "min       1.000000    0.000000    1.000000    0.420000    0.000000   \n",
              "25%     223.500000    0.000000    2.000000   20.125000    0.000000   \n",
              "50%     446.000000    0.000000    3.000000   28.000000    0.000000   \n",
              "75%     668.500000    1.000000    3.000000   38.000000    1.000000   \n",
              "max     891.000000    1.000000    3.000000   80.000000    8.000000   \n",
              "\n",
              "            Parch        Fare    Age_Fill  \n",
              "count  891.000000  891.000000  891.000000  \n",
              "mean     0.381594   32.204208   29.339313  \n",
              "std      0.806057   49.693429   13.370271  \n",
              "min      0.000000    0.000000    0.420000  \n",
              "25%      0.000000    7.910400   21.000000  \n",
              "50%      0.000000   14.454200   27.255814  \n",
              "75%      0.000000   31.000000   36.000000  \n",
              "max      6.000000  512.329200   80.000000  "
            ]
          },
          "execution_count": 29,
          "metadata": {},
          "output_type": "execute_result"
        }
      ],
      "source": [
        "# Descrição geral do conjunto de dados\n",
        "titanic.describe()"
      ]
    },
    {
      "cell_type": "code",
      "execution_count": 30,
      "metadata": {
        "id": "ttG8xupkL7dQ"
      },
      "outputs": [
        {
          "data": {
            "text/plain": [
              "0.25    21.000000\n",
              "0.50    27.255814\n",
              "0.75    36.000000\n",
              "Name: Age_Fill, dtype: float64"
            ]
          },
          "metadata": {},
          "output_type": "display_data"
        }
      ],
      "source": [
        "# Quartis da distribuição de idades\n",
        "quartis = titanic['Age_Fill'].quantile([0.25, 0.5, 0.75], interpolation='linear')\n",
        "display(quartis)"
      ]
    },
    {
      "cell_type": "code",
      "execution_count": 31,
      "metadata": {
        "id": "G97eBI11MS4D"
      },
      "outputs": [
        {
          "name": "stdout",
          "output_type": "stream",
          "text": [
            "Amplitude interquartil: 15.0 anos\n"
          ]
        }
      ],
      "source": [
        "# Calculando a amplitude interquartil\n",
        "interquartil = quartis[0.75] - quartis[0.25]\n",
        "print(f'Amplitude interquartil: {interquartil} anos')"
      ]
    },
    {
      "cell_type": "code",
      "execution_count": 32,
      "metadata": {
        "id": "9skGtb73MZ8J"
      },
      "outputs": [
        {
          "name": "stdout",
          "output_type": "stream",
          "text": [
            "Limites de detecção para outliers:\n",
            "Inferior = -1.5\n",
            "Superior = 58.5\n"
          ]
        }
      ],
      "source": [
        "# Limites para detecção de outliers\n",
        "lim_min = quartis[0.25] - 1.5*interquartil\n",
        "lim_max = quartis[0.75] + 1.5*interquartil\n",
        "print('Limites de detecção para outliers:')\n",
        "print(f'Inferior = {lim_min}')\n",
        "print(f'Superior = {lim_max}')"
      ]
    },
    {
      "cell_type": "code",
      "execution_count": 33,
      "metadata": {
        "id": "B_6XpWJKMgrA"
      },
      "outputs": [
        {
          "name": "stdout",
          "output_type": "stream",
          "text": [
            "Outlier inferior:\n"
          ]
        },
        {
          "data": {
            "text/plain": [
              "Series([], Name: Age_Fill, dtype: float64)"
            ]
          },
          "metadata": {},
          "output_type": "display_data"
        },
        {
          "name": "stdout",
          "output_type": "stream",
          "text": [
            "\n",
            "Outlier superior:\n"
          ]
        },
        {
          "data": {
            "text/plain": [
              "94     59.0\n",
              "232    59.0\n",
              "587    60.0\n",
              "694    60.0\n",
              "684    60.0\n",
              "366    60.0\n",
              "170    61.0\n",
              "625    61.0\n",
              "326    61.0\n",
              "555    62.0\n",
              "252    62.0\n",
              "570    62.0\n",
              "829    62.0\n",
              "483    63.0\n",
              "275    63.0\n",
              "438    64.0\n",
              "545    64.0\n",
              "456    65.0\n",
              "54     65.0\n",
              "280    65.0\n",
              "33     66.0\n",
              "672    70.0\n",
              "745    70.0\n",
              "116    70.5\n",
              "96     71.0\n",
              "493    71.0\n",
              "851    74.0\n",
              "630    80.0\n",
              "Name: Age_Fill, dtype: float64"
            ]
          },
          "metadata": {},
          "output_type": "display_data"
        }
      ],
      "source": [
        "# Procurando por outliers\n",
        "out_inf = titanic['Age_Fill'].loc[titanic['Age_Fill'] <= lim_min]\n",
        "print('Outlier inferior:')\n",
        "display(out_inf.sort_values(axis=0))\n",
        "\n",
        "out_sup = titanic['Age_Fill'].loc[titanic['Age_Fill'] >= lim_max]\n",
        "print('\\nOutlier superior:')\n",
        "display(out_sup.sort_values(axis=0))"
      ]
    },
    {
      "cell_type": "code",
      "execution_count": 38,
      "metadata": {
        "id": "adkXjICYPMRq"
      },
      "outputs": [
        {
          "data": {
            "image/png": "[encoded data removed]",
            "text/plain": [
              "<Figure size 1000x200 with 1 Axes>"
            ]
          },
          "metadata": {},
          "output_type": "display_data"
        }
      ],
      "source": [
        "# Boxplot\n",
        "pd.DataFrame(titanic['Age_Fill']).boxplot(color='red', vert=False, whis=1.5,\n",
        "                                           showmeans=True, figsize=(10, 2))\n",
        "\n",
        "plt.xlabel('Idade')\n",
        "plt.show()\n"
      ]
    },
    {
      "cell_type": "markdown",
      "metadata": {
        "id": "zTDIMn_3NyWo"
      },
      "source": [
        "**i)** A distribuição de idades dos passageiros, por gênero, identificando possíveis *outliers*."
      ]
    },
    {
      "cell_type": "code",
      "execution_count": 39,
      "metadata": {
        "id": "somA9quIQBW-"
      },
      "outputs": [
        {
          "data": {
            "image/png": "[encoded data removed]",
            "text/plain": [
              "<Figure size 1000x300 with 1 Axes>"
            ]
          },
          "metadata": {},
          "output_type": "display_data"
        }
      ],
      "source": [
        "# Boxplot\n",
        "titanic.boxplot(by='Sex', column=['Age_Fill'], color='red', showmeans=True,\n",
        "                whis=1.5, vert=False, figsize=(10,3))\n",
        "\n",
        "plt.suptitle('')\n",
        "plt.xlabel('Idade')\n",
        "plt.show()"
      ]
    },
    {
      "cell_type": "markdown",
      "metadata": {
        "id": "GjVZZpweOXDw"
      },
      "source": [
        "**j)** A distribuição de idades dos passageiros que sobreviveram ou não ao naufrágio, identificando possíveis *outliers*."
      ]
    },
    {
      "cell_type": "code",
      "execution_count": 40,
      "metadata": {
        "id": "1gWWGPv4QeWq"
      },
      "outputs": [
        {
          "data": {
            "image/png": "[encoded data removed]",
            "text/plain": [
              "<Figure size 1000x300 with 1 Axes>"
            ]
          },
          "metadata": {},
          "output_type": "display_data"
        }
      ],
      "source": [
        "# Boxplot\n",
        "titanic.boxplot(by='Survived', column=['Age_Fill'], color='red', showmeans=True,\n",
        "                whis=1.5, vert=False, figsize=(10,3))\n",
        "\n",
        "plt.suptitle('')\n",
        "plt.xlabel('Idade')\n",
        "plt.show()"
      ]
    },
    {
      "cell_type": "markdown",
      "metadata": {
        "id": "YN6ksmLGPOVo"
      },
      "source": [
        "## Probabilidades\n",
        "\n",
        "**a)** Construa uma tabela de distribuição conjunta de frequências que relacione a sobrevivência ao naufrágio com o gênero, a classe e a idade (abaixo dos 30 anos) dos passageiros. Essa tabela reùne a contagem de sobreviventes em cada agrupamento."
      ]
    },
    {
      "cell_type": "code",
      "execution_count": 41,
      "metadata": {
        "id": "p91xzZWQUaL0"
      },
      "outputs": [
        {
          "data": {
            "text/html": [
              "<div>\n",
              "<style scoped>\n",
              "    .dataframe tbody tr th:only-of-type {\n",
              "        vertical-align: middle;\n",
              "    }\n",
              "\n",
              "    .dataframe tbody tr th {\n",
              "        vertical-align: top;\n",
              "    }\n",
              "\n",
              "    .dataframe thead th {\n",
              "        text-align: right;\n",
              "    }\n",
              "</style>\n",
              "<table border=\"1\" class=\"dataframe\">\n",
              "  <thead>\n",
              "    <tr style=\"text-align: right;\">\n",
              "      <th></th>\n",
              "      <th></th>\n",
              "      <th>Survived</th>\n",
              "      <th>0</th>\n",
              "      <th>1</th>\n",
              "    </tr>\n",
              "    <tr>\n",
              "      <th>Sex</th>\n",
              "      <th>Pclass</th>\n",
              "      <th>Age_Fill</th>\n",
              "      <th></th>\n",
              "      <th></th>\n",
              "    </tr>\n",
              "  </thead>\n",
              "  <tbody>\n",
              "    <tr>\n",
              "      <th rowspan=\"6\" valign=\"top\">female</th>\n",
              "      <th rowspan=\"2\" valign=\"top\">1</th>\n",
              "      <th>False</th>\n",
              "      <td>1</td>\n",
              "      <td>63</td>\n",
              "    </tr>\n",
              "    <tr>\n",
              "      <th>True</th>\n",
              "      <td>2</td>\n",
              "      <td>28</td>\n",
              "    </tr>\n",
              "    <tr>\n",
              "      <th rowspan=\"2\" valign=\"top\">2</th>\n",
              "      <th>False</th>\n",
              "      <td>3</td>\n",
              "      <td>30</td>\n",
              "    </tr>\n",
              "    <tr>\n",
              "      <th>True</th>\n",
              "      <td>3</td>\n",
              "      <td>40</td>\n",
              "    </tr>\n",
              "    <tr>\n",
              "      <th rowspan=\"2\" valign=\"top\">3</th>\n",
              "      <th>False</th>\n",
              "      <td>18</td>\n",
              "      <td>8</td>\n",
              "    </tr>\n",
              "    <tr>\n",
              "      <th>True</th>\n",
              "      <td>54</td>\n",
              "      <td>64</td>\n",
              "    </tr>\n",
              "    <tr>\n",
              "      <th rowspan=\"6\" valign=\"top\">male</th>\n",
              "      <th rowspan=\"2\" valign=\"top\">1</th>\n",
              "      <th>False</th>\n",
              "      <td>65</td>\n",
              "      <td>32</td>\n",
              "    </tr>\n",
              "    <tr>\n",
              "      <th>True</th>\n",
              "      <td>12</td>\n",
              "      <td>13</td>\n",
              "    </tr>\n",
              "    <tr>\n",
              "      <th rowspan=\"2\" valign=\"top\">2</th>\n",
              "      <th>False</th>\n",
              "      <td>54</td>\n",
              "      <td>5</td>\n",
              "    </tr>\n",
              "    <tr>\n",
              "      <th>True</th>\n",
              "      <td>37</td>\n",
              "      <td>12</td>\n",
              "    </tr>\n",
              "    <tr>\n",
              "      <th rowspan=\"2\" valign=\"top\">3</th>\n",
              "      <th>False</th>\n",
              "      <td>78</td>\n",
              "      <td>10</td>\n",
              "    </tr>\n",
              "    <tr>\n",
              "      <th>True</th>\n",
              "      <td>222</td>\n",
              "      <td>37</td>\n",
              "    </tr>\n",
              "  </tbody>\n",
              "</table>\n",
              "</div>"
            ],
            "text/plain": [
              "Survived                  0   1\n",
              "Sex    Pclass Age_Fill         \n",
              "female 1      False       1  63\n",
              "              True        2  28\n",
              "       2      False       3  30\n",
              "              True        3  40\n",
              "       3      False      18   8\n",
              "              True       54  64\n",
              "male   1      False      65  32\n",
              "              True       12  13\n",
              "       2      False      54   5\n",
              "              True       37  12\n",
              "       3      False      78  10\n",
              "              True      222  37"
            ]
          },
          "execution_count": 41,
          "metadata": {},
          "output_type": "execute_result"
        }
      ],
      "source": [
        "# Contagem de sobrevivência por 'Sex', 'Pclass' e 'Age_Fill' < 30\n",
        "genero = titanic['Sex']\n",
        "sobrevivencia = titanic['Survived']\n",
        "classe = titanic['Pclass']\n",
        "jovem = titanic['Age_Fill'] < 30\n",
        "\n",
        "pd.crosstab([genero, classe, jovem], sobrevivencia)"
      ]
    },
    {
      "cell_type": "markdown",
      "metadata": {
        "id": "D7gH9YUrQ0ey"
      },
      "source": [
        "**b)** Construa uma tabela de distribuição conjunta de frequências que relacione a sobrevivência ao naufrágio com a classe dos passageiros. A seguir, calcule as probabilidades de que um passageiro sorteado aleatoriamente:\n",
        "\n",
        "* tenha sobrevivido, dado que pertencia à 2ª classe;\n",
        "* pertença à 3ª classe, dado que não sobreviveu;\n",
        "* pertença à 1ª classe e não tenha sobrevivido;\n",
        "* tenha sobrevivido ou pertença à 3ª classe.\n"
      ]
    },
    {
      "cell_type": "code",
      "execution_count": 42,
      "metadata": {
        "id": "TyK5UtwBUvbW"
      },
      "outputs": [
        {
          "data": {
            "text/html": [
              "<div>\n",
              "<style scoped>\n",
              "    .dataframe tbody tr th:only-of-type {\n",
              "        vertical-align: middle;\n",
              "    }\n",
              "\n",
              "    .dataframe tbody tr th {\n",
              "        vertical-align: top;\n",
              "    }\n",
              "\n",
              "    .dataframe thead th {\n",
              "        text-align: right;\n",
              "    }\n",
              "</style>\n",
              "<table border=\"1\" class=\"dataframe\">\n",
              "  <thead>\n",
              "    <tr style=\"text-align: right;\">\n",
              "      <th>Pclass</th>\n",
              "      <th>1</th>\n",
              "      <th>2</th>\n",
              "      <th>3</th>\n",
              "      <th>All</th>\n",
              "    </tr>\n",
              "    <tr>\n",
              "      <th>Survived</th>\n",
              "      <th></th>\n",
              "      <th></th>\n",
              "      <th></th>\n",
              "      <th></th>\n",
              "    </tr>\n",
              "  </thead>\n",
              "  <tbody>\n",
              "    <tr>\n",
              "      <th>0</th>\n",
              "      <td>80</td>\n",
              "      <td>97</td>\n",
              "      <td>372</td>\n",
              "      <td>549</td>\n",
              "    </tr>\n",
              "    <tr>\n",
              "      <th>1</th>\n",
              "      <td>136</td>\n",
              "      <td>87</td>\n",
              "      <td>119</td>\n",
              "      <td>342</td>\n",
              "    </tr>\n",
              "    <tr>\n",
              "      <th>All</th>\n",
              "      <td>216</td>\n",
              "      <td>184</td>\n",
              "      <td>491</td>\n",
              "      <td>891</td>\n",
              "    </tr>\n",
              "  </tbody>\n",
              "</table>\n",
              "</div>"
            ],
            "text/plain": [
              "Pclass      1    2    3  All\n",
              "Survived                    \n",
              "0          80   97  372  549\n",
              "1         136   87  119  342\n",
              "All       216  184  491  891"
            ]
          },
          "metadata": {},
          "output_type": "display_data"
        }
      ],
      "source": [
        "# Tabela de distribuição conjunta\n",
        "tab = pd.crosstab(sobrevivencia, classe, margins=True)\n",
        "display(tab)"
      ]
    },
    {
      "cell_type": "code",
      "execution_count": 44,
      "metadata": {
        "id": "y-PlBxEzSk7B"
      },
      "outputs": [
        {
          "name": "stdout",
          "output_type": "stream",
          "text": [
            "P(Sobreviveu | 2ª classe) = 47.3%\n"
          ]
        }
      ],
      "source": [
        "# P(Sobreviveu | 2ª classe)\n",
        "prob = tab.iloc[1, 1] / tab.iloc[2, 1]\n",
        "print(f'P(Sobreviveu | 2ª classe) = {prob*100:.1f}%')"
      ]
    },
    {
      "cell_type": "code",
      "execution_count": 43,
      "metadata": {
        "id": "7tAZRzK2TaI4"
      },
      "outputs": [
        {
          "name": "stdout",
          "output_type": "stream",
          "text": [
            "P(3ª classe | Não sobreviveu) = 67.8%\n"
          ]
        }
      ],
      "source": [
        "# P(3ª classe | Não sobreviveu)\n",
        "prob = tab.iloc[0, 2] / tab.iloc[0, 3]\n",
        "print(f'P(3ª classe | Não sobreviveu) = {prob*100:.1f}%')"
      ]
    },
    {
      "cell_type": "code",
      "execution_count": 45,
      "metadata": {
        "id": "hUOyPpAPTzqn"
      },
      "outputs": [
        {
          "name": "stdout",
          "output_type": "stream",
          "text": [
            "P(1ª classe E Não sobreviveu) = 9.0%\n"
          ]
        }
      ],
      "source": [
        "# P(1ª classe E Não sobreviveu) = P(1ª classe) * P(Não Sobreviveu | 1ª classe)\n",
        "prob1 = tab.iloc[2, 0] / tab.iloc[2, 3]\n",
        "prob2 = tab.iloc[0, 0] / tab.iloc[2, 0]\n",
        "print(f'P(1ª classe E Não sobreviveu) = {prob1*prob2*100:.1f}%')"
      ]
    },
    {
      "cell_type": "code",
      "execution_count": 46,
      "metadata": {
        "id": "MMhAAxizVPcO"
      },
      "outputs": [
        {
          "name": "stdout",
          "output_type": "stream",
          "text": [
            "P(Sobreviveu OU 3ª classe) = 80.1%\n"
          ]
        }
      ],
      "source": [
        "# P(Sobreviveu OU 3ª classe) = P(Sobreviveu) + P(3ª classe) - P(Sobreviveu E 3ª classe)\n",
        "prob1 = tab.iloc[1, 3] / tab.iloc[2, 3]\n",
        "prob2 = tab.iloc[2, 2] / tab.iloc[2, 3]\n",
        "# P(Sobreviveu E 3ª classe) = P(Sobreviveu) * P(3ª classe | Sobreviveu)\n",
        "prob3 = prob1 * tab.iloc[1, 2] / tab.iloc[1, 3]\n",
        "\n",
        "print(f'P(Sobreviveu OU 3ª classe) = {(prob1+prob2-prob3)*100:.1f}%')"
      ]
    },
    {
      "cell_type": "markdown",
      "metadata": {
        "id": "dO4A5FhGW_cL"
      },
      "source": [
        "**c)** Construa uma tabela de distribuição conjunta de frequências que relacione a sobrevivência ao naufrágio com a idade inferior a 30 anos (jovem). A seguir, calcule as probabilidades de que um passageiro sorteado aleatoriamente:\n",
        "\n",
        "* não tenha sobrevivido, dado que é jovem;\n",
        "* não seja jovem, dado que sobreviveu;\n",
        "* seja jovem e não tenha sobrevivido;\n",
        "* tenha sobrevivido ou não seja jovem.\n"
      ]
    },
    {
      "cell_type": "code",
      "execution_count": 47,
      "metadata": {
        "id": "VnhQLCVCU9pf"
      },
      "outputs": [
        {
          "data": {
            "text/html": [
              "<div>\n",
              "<style scoped>\n",
              "    .dataframe tbody tr th:only-of-type {\n",
              "        vertical-align: middle;\n",
              "    }\n",
              "\n",
              "    .dataframe tbody tr th {\n",
              "        vertical-align: top;\n",
              "    }\n",
              "\n",
              "    .dataframe thead th {\n",
              "        text-align: right;\n",
              "    }\n",
              "</style>\n",
              "<table border=\"1\" class=\"dataframe\">\n",
              "  <thead>\n",
              "    <tr style=\"text-align: right;\">\n",
              "      <th>Age_Fill</th>\n",
              "      <th>False</th>\n",
              "      <th>True</th>\n",
              "    </tr>\n",
              "    <tr>\n",
              "      <th>Survived</th>\n",
              "      <th></th>\n",
              "      <th></th>\n",
              "    </tr>\n",
              "  </thead>\n",
              "  <tbody>\n",
              "    <tr>\n",
              "      <th>0</th>\n",
              "      <td>0.398907</td>\n",
              "      <td>0.601093</td>\n",
              "    </tr>\n",
              "    <tr>\n",
              "      <th>1</th>\n",
              "      <td>0.432749</td>\n",
              "      <td>0.567251</td>\n",
              "    </tr>\n",
              "    <tr>\n",
              "      <th>All</th>\n",
              "      <td>0.411897</td>\n",
              "      <td>0.588103</td>\n",
              "    </tr>\n",
              "  </tbody>\n",
              "</table>\n",
              "</div>"
            ],
            "text/plain": [
              "Age_Fill     False      True\n",
              "Survived                    \n",
              "0         0.398907  0.601093\n",
              "1         0.432749  0.567251\n",
              "All       0.411897  0.588103"
            ]
          },
          "metadata": {},
          "output_type": "display_data"
        }
      ],
      "source": [
        "# Tabela de distribuição conjunta\n",
        "tab = pd.crosstab(sobrevivencia, jovem, margins=True, normalize=\"index\")\n",
        "#tab = pd.crosstab(sobrevivencia, jovem, margins=True)\n",
        "display(tab)"
      ]
    },
    {
      "cell_type": "markdown",
      "metadata": {
        "id": "RXqOZXYnX1CU"
      },
      "source": [
        "**d)** Construa uma tabela de distribuição conjunta de frequências que relacione a sobrevivência ao naufrágio com o gênero dos passageiros. A seguir, calcule as probabilidades de que um passageiro sorteado aleatoriamente:\n",
        "\n",
        "* não tenha sobrevivido, dado que é mulher;\n",
        "* seja homem, dado que sobreviveu;\n",
        "* seja mulher e tenha sobrevivido;\n",
        "* tenha sobrevivido ou seja mulher.\n"
      ]
    },
    {
      "cell_type": "code",
      "execution_count": 48,
      "metadata": {
        "id": "jRc59zaZVI0W"
      },
      "outputs": [
        {
          "data": {
            "text/html": [
              "<div>\n",
              "<style scoped>\n",
              "    .dataframe tbody tr th:only-of-type {\n",
              "        vertical-align: middle;\n",
              "    }\n",
              "\n",
              "    .dataframe tbody tr th {\n",
              "        vertical-align: top;\n",
              "    }\n",
              "\n",
              "    .dataframe thead th {\n",
              "        text-align: right;\n",
              "    }\n",
              "</style>\n",
              "<table border=\"1\" class=\"dataframe\">\n",
              "  <thead>\n",
              "    <tr style=\"text-align: right;\">\n",
              "      <th>Sex</th>\n",
              "      <th>female</th>\n",
              "      <th>male</th>\n",
              "      <th>All</th>\n",
              "    </tr>\n",
              "    <tr>\n",
              "      <th>Survived</th>\n",
              "      <th></th>\n",
              "      <th></th>\n",
              "      <th></th>\n",
              "    </tr>\n",
              "  </thead>\n",
              "  <tbody>\n",
              "    <tr>\n",
              "      <th>0</th>\n",
              "      <td>81</td>\n",
              "      <td>468</td>\n",
              "      <td>549</td>\n",
              "    </tr>\n",
              "    <tr>\n",
              "      <th>1</th>\n",
              "      <td>233</td>\n",
              "      <td>109</td>\n",
              "      <td>342</td>\n",
              "    </tr>\n",
              "    <tr>\n",
              "      <th>All</th>\n",
              "      <td>314</td>\n",
              "      <td>577</td>\n",
              "      <td>891</td>\n",
              "    </tr>\n",
              "  </tbody>\n",
              "</table>\n",
              "</div>"
            ],
            "text/plain": [
              "Sex       female  male  All\n",
              "Survived                   \n",
              "0             81   468  549\n",
              "1            233   109  342\n",
              "All          314   577  891"
            ]
          },
          "metadata": {},
          "output_type": "display_data"
        }
      ],
      "source": [
        "# Tabela de distribuição conjunta\n",
        "tab = pd.crosstab(sobrevivencia, genero, margins=True)\n",
        "#tab = pd.crosstab(sobrevivencia, genero, margins=True, normalize=True)\n",
        "display(tab)"
      ]
    },
    {
      "cell_type": "markdown",
      "metadata": {
        "id": "hHzUZnWMYjRK"
      },
      "source": [
        "**e)** Construa uma tabela de distribuição conjunta de frequências que relacione a sobrevivência ao naufrágio com a idade superior a 60 anos (idoso). A seguir, calcule as probabilidades de que um passageiro sorteado aleatoriamente:\n",
        "\n",
        "* não tenha sobrevivido, dado que é idoso;\n",
        "* não seja idoso, dado que sobreviveu;\n",
        "* seja idoso e não tenha sobrevivido;\n",
        "* tenha sobrevivido ou não seja idoso.\n"
      ]
    },
    {
      "cell_type": "code",
      "execution_count": 49,
      "metadata": {
        "id": "-trJK0rOVd45"
      },
      "outputs": [
        {
          "data": {
            "text/html": [
              "<div>\n",
              "<style scoped>\n",
              "    .dataframe tbody tr th:only-of-type {\n",
              "        vertical-align: middle;\n",
              "    }\n",
              "\n",
              "    .dataframe tbody tr th {\n",
              "        vertical-align: top;\n",
              "    }\n",
              "\n",
              "    .dataframe thead th {\n",
              "        text-align: right;\n",
              "    }\n",
              "</style>\n",
              "<table border=\"1\" class=\"dataframe\">\n",
              "  <thead>\n",
              "    <tr style=\"text-align: right;\">\n",
              "      <th>Age_Fill</th>\n",
              "      <th>False</th>\n",
              "      <th>True</th>\n",
              "      <th>All</th>\n",
              "    </tr>\n",
              "    <tr>\n",
              "      <th>Survived</th>\n",
              "      <th></th>\n",
              "      <th></th>\n",
              "      <th></th>\n",
              "    </tr>\n",
              "  </thead>\n",
              "  <tbody>\n",
              "    <tr>\n",
              "      <th>0</th>\n",
              "      <td>532</td>\n",
              "      <td>17</td>\n",
              "      <td>549</td>\n",
              "    </tr>\n",
              "    <tr>\n",
              "      <th>1</th>\n",
              "      <td>337</td>\n",
              "      <td>5</td>\n",
              "      <td>342</td>\n",
              "    </tr>\n",
              "    <tr>\n",
              "      <th>All</th>\n",
              "      <td>869</td>\n",
              "      <td>22</td>\n",
              "      <td>891</td>\n",
              "    </tr>\n",
              "  </tbody>\n",
              "</table>\n",
              "</div>"
            ],
            "text/plain": [
              "Age_Fill  False  True  All\n",
              "Survived                  \n",
              "0           532    17  549\n",
              "1           337     5  342\n",
              "All         869    22  891"
            ]
          },
          "metadata": {},
          "output_type": "display_data"
        }
      ],
      "source": [
        "# Filtro de idade > 60 anos\n",
        "idoso = titanic['Age_Fill'] > 60\n",
        "# Tabela de distribuição conjunta\n",
        "tab = pd.crosstab(sobrevivencia, idoso, margins=True)\n",
        "#tab = pd.crosstab(sobrevivencia, idoso, margins=True, normalize=True)\n",
        "display(tab)"
      ]
    }
  ],
  "metadata": {
    "colab": {
      "provenance": []
    },
    "kernelspec": {
      "display_name": "Python 3",
      "name": "python3"
    },
    "language_info": {
      "codemirror_mode": {
        "name": "ipython",
        "version": 3
      },
      "file_extension": ".py",
      "mimetype": "text/x-python",
      "name": "python",
      "nbconvert_exporter": "python",
      "pygments_lexer": "ipython3",
      "version": "3.11.5"
    }
  },
  "nbformat": 4,
  "nbformat_minor": 0
}
